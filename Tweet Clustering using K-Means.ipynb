{
 "cells": [
  {
   "cell_type": "markdown",
   "metadata": {},
   "source": [
    "# Tweet Clustering using K-Means"
   ]
  },
  {
   "cell_type": "code",
   "execution_count": 4,
   "metadata": {},
   "outputs": [],
   "source": [
    "import numpy as np\n",
    "import pandas as pd\n",
    "import nltk"
   ]
  },
  {
   "cell_type": "code",
   "execution_count": 5,
   "metadata": {},
   "outputs": [
    {
     "name": "stdout",
     "output_type": "stream",
     "text": [
      "<class 'pandas.core.frame.DataFrame'>\n",
      "RangeIndex: 17600 entries, 0 to 17599\n",
      "Data columns (total 30 columns):\n",
      "created_at                   17600 non-null datetime64[ns, UTC]\n",
      "id                           17600 non-null int64\n",
      "id_str                       17600 non-null int64\n",
      "text                         17600 non-null object\n",
      "truncated                    17600 non-null bool\n",
      "entities                     17600 non-null object\n",
      "metadata                     17600 non-null object\n",
      "source                       17600 non-null object\n",
      "in_reply_to_status_id        2442 non-null float64\n",
      "in_reply_to_status_id_str    2442 non-null float64\n",
      "in_reply_to_user_id          2484 non-null float64\n",
      "in_reply_to_user_id_str      2484 non-null float64\n",
      "in_reply_to_screen_name      2484 non-null object\n",
      "user                         17600 non-null object\n",
      "geo                          6 non-null object\n",
      "coordinates                  6 non-null object\n",
      "place                        214 non-null object\n",
      "contributors                 0 non-null float64\n",
      "retweeted_status             12218 non-null object\n",
      "is_quote_status              17600 non-null bool\n",
      "quoted_status_id             1750 non-null float64\n",
      "quoted_status_id_str         1750 non-null float64\n",
      "retweet_count                17600 non-null int64\n",
      "favorite_count               17600 non-null int64\n",
      "favorited                    17600 non-null bool\n",
      "retweeted                    17600 non-null bool\n",
      "lang                         17600 non-null object\n",
      "possibly_sensitive           6656 non-null float64\n",
      "quoted_status                460 non-null object\n",
      "extended_entities            4484 non-null object\n",
      "dtypes: bool(4), datetime64[ns, UTC](1), float64(8), int64(4), object(13)\n",
      "memory usage: 3.6+ MB\n"
     ]
    },
    {
     "data": {
      "text/html": [
       "<div>\n",
       "<style scoped>\n",
       "    .dataframe tbody tr th:only-of-type {\n",
       "        vertical-align: middle;\n",
       "    }\n",
       "\n",
       "    .dataframe tbody tr th {\n",
       "        vertical-align: top;\n",
       "    }\n",
       "\n",
       "    .dataframe thead th {\n",
       "        text-align: right;\n",
       "    }\n",
       "</style>\n",
       "<table border=\"1\" class=\"dataframe\">\n",
       "  <thead>\n",
       "    <tr style=\"text-align: right;\">\n",
       "      <th></th>\n",
       "      <th>created_at</th>\n",
       "      <th>id</th>\n",
       "      <th>id_str</th>\n",
       "      <th>text</th>\n",
       "      <th>truncated</th>\n",
       "      <th>entities</th>\n",
       "      <th>metadata</th>\n",
       "      <th>source</th>\n",
       "      <th>in_reply_to_status_id</th>\n",
       "      <th>in_reply_to_status_id_str</th>\n",
       "      <th>...</th>\n",
       "      <th>quoted_status_id</th>\n",
       "      <th>quoted_status_id_str</th>\n",
       "      <th>retweet_count</th>\n",
       "      <th>favorite_count</th>\n",
       "      <th>favorited</th>\n",
       "      <th>retweeted</th>\n",
       "      <th>lang</th>\n",
       "      <th>possibly_sensitive</th>\n",
       "      <th>quoted_status</th>\n",
       "      <th>extended_entities</th>\n",
       "    </tr>\n",
       "  </thead>\n",
       "  <tbody>\n",
       "    <tr>\n",
       "      <td>0</td>\n",
       "      <td>2020-01-30 19:30:57+00:00</td>\n",
       "      <td>1222965439417815041</td>\n",
       "      <td>1222965439417815040</td>\n",
       "      <td>RT @cursedkidd: ternyata sunda empire itu sebe...</td>\n",
       "      <td>False</td>\n",
       "      <td>{'hashtags': [], 'symbols': [], 'user_mentions...</td>\n",
       "      <td>{'iso_language_code': 'in', 'result_type': 're...</td>\n",
       "      <td>&lt;a href=\"http://twitter.com/download/android\" ...</td>\n",
       "      <td>NaN</td>\n",
       "      <td>NaN</td>\n",
       "      <td>...</td>\n",
       "      <td>1.222508e+18</td>\n",
       "      <td>1.222508e+18</td>\n",
       "      <td>1351</td>\n",
       "      <td>0</td>\n",
       "      <td>False</td>\n",
       "      <td>False</td>\n",
       "      <td>in</td>\n",
       "      <td>NaN</td>\n",
       "      <td>NaN</td>\n",
       "      <td>NaN</td>\n",
       "    </tr>\n",
       "    <tr>\n",
       "      <td>1</td>\n",
       "      <td>2020-01-30 19:30:23+00:00</td>\n",
       "      <td>1222965297323184128</td>\n",
       "      <td>1222965297323184128</td>\n",
       "      <td>@selvyardp @ngalamfess Di Kekaisaran sunda emp...</td>\n",
       "      <td>False</td>\n",
       "      <td>{'hashtags': [], 'symbols': [], 'user_mentions...</td>\n",
       "      <td>{'iso_language_code': 'in', 'result_type': 're...</td>\n",
       "      <td>&lt;a href=\"http://twitter.com/download/android\" ...</td>\n",
       "      <td>1.222965e+18</td>\n",
       "      <td>1.222965e+18</td>\n",
       "      <td>...</td>\n",
       "      <td>NaN</td>\n",
       "      <td>NaN</td>\n",
       "      <td>0</td>\n",
       "      <td>0</td>\n",
       "      <td>False</td>\n",
       "      <td>False</td>\n",
       "      <td>in</td>\n",
       "      <td>NaN</td>\n",
       "      <td>NaN</td>\n",
       "      <td>NaN</td>\n",
       "    </tr>\n",
       "    <tr>\n",
       "      <td>2</td>\n",
       "      <td>2020-01-30 19:29:53+00:00</td>\n",
       "      <td>1222965171418615808</td>\n",
       "      <td>1222965171418615808</td>\n",
       "      <td>@emnashrullah RAJA RAJA PALSU NUSANTARA \\n====...</td>\n",
       "      <td>True</td>\n",
       "      <td>{'hashtags': [], 'symbols': [], 'user_mentions...</td>\n",
       "      <td>{'iso_language_code': 'in', 'result_type': 're...</td>\n",
       "      <td>&lt;a href=\"http://twitter.com/download/android\" ...</td>\n",
       "      <td>1.222896e+18</td>\n",
       "      <td>1.222896e+18</td>\n",
       "      <td>...</td>\n",
       "      <td>NaN</td>\n",
       "      <td>NaN</td>\n",
       "      <td>0</td>\n",
       "      <td>0</td>\n",
       "      <td>False</td>\n",
       "      <td>False</td>\n",
       "      <td>in</td>\n",
       "      <td>0.0</td>\n",
       "      <td>NaN</td>\n",
       "      <td>NaN</td>\n",
       "    </tr>\n",
       "    <tr>\n",
       "      <td>3</td>\n",
       "      <td>2020-01-30 19:28:05+00:00</td>\n",
       "      <td>1222964719360724992</td>\n",
       "      <td>1222964719360724992</td>\n",
       "      <td>@detikcom RAJA RAJA PALSU NUSANTARA \\n========...</td>\n",
       "      <td>True</td>\n",
       "      <td>{'hashtags': [], 'symbols': [], 'user_mentions...</td>\n",
       "      <td>{'iso_language_code': 'in', 'result_type': 're...</td>\n",
       "      <td>&lt;a href=\"http://twitter.com/download/android\" ...</td>\n",
       "      <td>1.222959e+18</td>\n",
       "      <td>1.222959e+18</td>\n",
       "      <td>...</td>\n",
       "      <td>NaN</td>\n",
       "      <td>NaN</td>\n",
       "      <td>0</td>\n",
       "      <td>0</td>\n",
       "      <td>False</td>\n",
       "      <td>False</td>\n",
       "      <td>in</td>\n",
       "      <td>0.0</td>\n",
       "      <td>NaN</td>\n",
       "      <td>NaN</td>\n",
       "    </tr>\n",
       "    <tr>\n",
       "      <td>4</td>\n",
       "      <td>2020-01-30 19:26:27+00:00</td>\n",
       "      <td>1222964309438783488</td>\n",
       "      <td>1222964309438783488</td>\n",
       "      <td>@cekristn W titisan sunda empire😠</td>\n",
       "      <td>False</td>\n",
       "      <td>{'hashtags': [], 'symbols': [], 'user_mentions...</td>\n",
       "      <td>{'iso_language_code': 'in', 'result_type': 're...</td>\n",
       "      <td>&lt;a href=\"https://mobile.twitter.com\" rel=\"nofo...</td>\n",
       "      <td>1.222914e+18</td>\n",
       "      <td>1.222914e+18</td>\n",
       "      <td>...</td>\n",
       "      <td>NaN</td>\n",
       "      <td>NaN</td>\n",
       "      <td>0</td>\n",
       "      <td>0</td>\n",
       "      <td>False</td>\n",
       "      <td>False</td>\n",
       "      <td>in</td>\n",
       "      <td>NaN</td>\n",
       "      <td>NaN</td>\n",
       "      <td>NaN</td>\n",
       "    </tr>\n",
       "  </tbody>\n",
       "</table>\n",
       "<p>5 rows × 30 columns</p>\n",
       "</div>"
      ],
      "text/plain": [
       "                 created_at                   id               id_str  \\\n",
       "0 2020-01-30 19:30:57+00:00  1222965439417815041  1222965439417815040   \n",
       "1 2020-01-30 19:30:23+00:00  1222965297323184128  1222965297323184128   \n",
       "2 2020-01-30 19:29:53+00:00  1222965171418615808  1222965171418615808   \n",
       "3 2020-01-30 19:28:05+00:00  1222964719360724992  1222964719360724992   \n",
       "4 2020-01-30 19:26:27+00:00  1222964309438783488  1222964309438783488   \n",
       "\n",
       "                                                text  truncated  \\\n",
       "0  RT @cursedkidd: ternyata sunda empire itu sebe...      False   \n",
       "1  @selvyardp @ngalamfess Di Kekaisaran sunda emp...      False   \n",
       "2  @emnashrullah RAJA RAJA PALSU NUSANTARA \\n====...       True   \n",
       "3  @detikcom RAJA RAJA PALSU NUSANTARA \\n========...       True   \n",
       "4                  @cekristn W titisan sunda empire😠      False   \n",
       "\n",
       "                                            entities  \\\n",
       "0  {'hashtags': [], 'symbols': [], 'user_mentions...   \n",
       "1  {'hashtags': [], 'symbols': [], 'user_mentions...   \n",
       "2  {'hashtags': [], 'symbols': [], 'user_mentions...   \n",
       "3  {'hashtags': [], 'symbols': [], 'user_mentions...   \n",
       "4  {'hashtags': [], 'symbols': [], 'user_mentions...   \n",
       "\n",
       "                                            metadata  \\\n",
       "0  {'iso_language_code': 'in', 'result_type': 're...   \n",
       "1  {'iso_language_code': 'in', 'result_type': 're...   \n",
       "2  {'iso_language_code': 'in', 'result_type': 're...   \n",
       "3  {'iso_language_code': 'in', 'result_type': 're...   \n",
       "4  {'iso_language_code': 'in', 'result_type': 're...   \n",
       "\n",
       "                                              source  in_reply_to_status_id  \\\n",
       "0  <a href=\"http://twitter.com/download/android\" ...                    NaN   \n",
       "1  <a href=\"http://twitter.com/download/android\" ...           1.222965e+18   \n",
       "2  <a href=\"http://twitter.com/download/android\" ...           1.222896e+18   \n",
       "3  <a href=\"http://twitter.com/download/android\" ...           1.222959e+18   \n",
       "4  <a href=\"https://mobile.twitter.com\" rel=\"nofo...           1.222914e+18   \n",
       "\n",
       "   in_reply_to_status_id_str  ...  quoted_status_id  quoted_status_id_str  \\\n",
       "0                        NaN  ...      1.222508e+18          1.222508e+18   \n",
       "1               1.222965e+18  ...               NaN                   NaN   \n",
       "2               1.222896e+18  ...               NaN                   NaN   \n",
       "3               1.222959e+18  ...               NaN                   NaN   \n",
       "4               1.222914e+18  ...               NaN                   NaN   \n",
       "\n",
       "  retweet_count favorite_count favorited retweeted lang  possibly_sensitive  \\\n",
       "0          1351              0     False     False   in                 NaN   \n",
       "1             0              0     False     False   in                 NaN   \n",
       "2             0              0     False     False   in                 0.0   \n",
       "3             0              0     False     False   in                 0.0   \n",
       "4             0              0     False     False   in                 NaN   \n",
       "\n",
       "  quoted_status  extended_entities  \n",
       "0           NaN                NaN  \n",
       "1           NaN                NaN  \n",
       "2           NaN                NaN  \n",
       "3           NaN                NaN  \n",
       "4           NaN                NaN  \n",
       "\n",
       "[5 rows x 30 columns]"
      ]
     },
     "execution_count": 5,
     "metadata": {},
     "output_type": "execute_result"
    }
   ],
   "source": [
    "tweet = pd.read_json('tweetidn.json', lines=True)\n",
    "\n",
    "tweet.info()\n",
    "tweet.head()"
   ]
  },
  {
   "cell_type": "code",
   "execution_count": 6,
   "metadata": {},
   "outputs": [
    {
     "data": {
      "text/plain": [
       "0    RT @cursedkidd: ternyata sunda empire itu sebe...\n",
       "1    @selvyardp @ngalamfess Di Kekaisaran sunda emp...\n",
       "4                    @cekristn W titisan sunda empire😠\n",
       "5    Emangnya bener ya orang sunda empire yg di ILC...\n",
       "7            @RFyani_ Jang daftar sunda empire wowkwos\n",
       "Name: text, dtype: object"
      ]
     },
     "execution_count": 6,
     "metadata": {},
     "output_type": "execute_result"
    }
   ],
   "source": [
    "txt = tweet.loc[0:2000]['text'][tweet['truncated']==False][tweet['lang']=='in']\n",
    "\n",
    "txt.head()"
   ]
  },
  {
   "cell_type": "code",
   "execution_count": 7,
   "metadata": {},
   "outputs": [
    {
     "data": {
      "text/plain": [
       "(1729,)"
      ]
     },
     "execution_count": 7,
     "metadata": {},
     "output_type": "execute_result"
    }
   ],
   "source": [
    "txt.shape"
   ]
  },
  {
   "cell_type": "code",
   "execution_count": 8,
   "metadata": {},
   "outputs": [],
   "source": [
    "import re\n",
    "\n",
    "# Remove punctuation\n",
    "txt_pre = txt.map(lambda x: re.sub('[,\\.!?:@#]', '', x))\n",
    "\n",
    "# Convert to lowercase\n",
    "txt_prep = txt_pre.map(lambda x: x.lower())"
   ]
  },
  {
   "cell_type": "code",
   "execution_count": 9,
   "metadata": {},
   "outputs": [
    {
     "data": {
      "text/plain": [
       "0       rt cursedkidd ternyata sunda empire itu sebena...\n",
       "1       selvyardp ngalamfess di kekaisaran sunda empir...\n",
       "4                        cekristn w titisan sunda empire😠\n",
       "5       emangnya bener ya orang sunda empire yg di ilc...\n",
       "7                rfyani_ jang daftar sunda empire wowkwos\n",
       "                              ...                        \n",
       "1994    katolikg jakarta  ke mabes polri nemuin peting...\n",
       "1996                      receinaja penduduk sunda empire\n",
       "1997    rt abaheayman pernyataan ust ismail yusanto\\nf...\n",
       "1998    rt kadrunhunter99 maybe si aniesbaswedan ini l...\n",
       "2000    rt detikcom perdana menteri sunda empire nasri...\n",
       "Name: text, Length: 1729, dtype: object"
      ]
     },
     "execution_count": 9,
     "metadata": {},
     "output_type": "execute_result"
    }
   ],
   "source": [
    "txt_prep"
   ]
  },
  {
   "cell_type": "code",
   "execution_count": 10,
   "metadata": {},
   "outputs": [],
   "source": [
    "from Sastrawi.Stemmer.StemmerFactory import StemmerFactory\n",
    "factory = StemmerFactory()\n",
    "stemmer = factory.create_stemmer()\n",
    "\n",
    "from Sastrawi.StopWordRemover.StopWordRemoverFactory import StopWordRemoverFactory \n",
    "factory = StopWordRemoverFactory()\n",
    "stopwords = factory.get_stop_words()"
   ]
  },
  {
   "cell_type": "code",
   "execution_count": 11,
   "metadata": {},
   "outputs": [],
   "source": [
    "def tokenize_and_stem(text):\n",
    "    \n",
    "    # Tokenize by sentence, then by word\n",
    "    tokens = [word for sent in nltk.sent_tokenize(text) for word in nltk.word_tokenize(sent)]\n",
    "    \n",
    "    # Filter out raw tokens to remove noise\n",
    "    filtered_tokens = [token for token in tokens if re.search('[a-zA-Z]', token)]\n",
    "    \n",
    "    # Stem the filtered_tokens\n",
    "    stems = [stemmer.stem(word) for word in filtered_tokens]\n",
    "    \n",
    "    return stems"
   ]
  },
  {
   "cell_type": "code",
   "execution_count": 12,
   "metadata": {},
   "outputs": [],
   "source": [
    "# Import TfidfVectorizer to create TF-IDF vectors\n",
    "from sklearn.feature_extraction.text import TfidfVectorizer\n",
    "\n",
    "# Instantiate TfidfVectorizer object with stopwords and tokenizer parameters for efficient processing of text.\n",
    "tfidf_vectorizer = TfidfVectorizer(max_df=0.8, max_features=200000,\n",
    "                                 min_df=0.05, stop_words=stopwords,\n",
    "                                 use_idf=True, tokenizer=tokenize_and_stem,\n",
    "                                 ngram_range=(1,3))"
   ]
  },
  {
   "cell_type": "code",
   "execution_count": 14,
   "metadata": {},
   "outputs": [
    {
     "name": "stdout",
     "output_type": "stream",
     "text": [
      "(1729, 122)\n"
     ]
    }
   ],
   "source": [
    "# Fit and transform the tfidf_vectorizer to create a vector representation of the tweet summaries\n",
    "tfidf_matrix = tfidf_vectorizer.fit_transform([x for x in txt_prep])\n",
    "\n",
    "print(tfidf_matrix.shape)\n"
   ]
  },
  {
   "cell_type": "code",
   "execution_count": 163,
   "metadata": {},
   "outputs": [
    {
     "name": "stdout",
     "output_type": "stream",
     "text": [
      "['https', 'sama', 'rt', 'empire https', 'raja']\n",
      "['rt', 'nyata', 'benar', 'king', 'detikcom']\n"
     ]
    }
   ],
   "source": [
    "from scipy.cluster.vq import kmeans\n",
    "\n",
    "num_clusters = 2\n",
    "\n",
    "# Generate cluster centers through the kmeans function\n",
    "cluster_centers, distortion = kmeans(tfidf_matrix.todense(), num_clusters)\n",
    "\n",
    "# Generate terms from the tfidf_vectorizer object\n",
    "terms = tfidf_vectorizer.get_feature_names()\n",
    "\n",
    "for i in range(num_clusters):\n",
    "    # Sort the terms and print top 5 terms\n",
    "    center_terms = dict(zip(terms, list(cluster_centers[i])))\n",
    "    sorted_terms = sorted(center_terms, key=center_terms.get, reverse=True)\n",
    "    print(sorted_terms[:5])"
   ]
  },
  {
   "cell_type": "code",
   "execution_count": 155,
   "metadata": {},
   "outputs": [],
   "source": [
    "import matplotlib.pyplot as plt\n",
    "import matplotlib.cm as cm\n",
    "from sklearn.cluster import MiniBatchKMeans\n",
    "from sklearn.feature_extraction.text import TfidfVectorizer\n",
    "from sklearn.decomposition import PCA\n",
    "from sklearn.manifold import TSNE"
   ]
  },
  {
   "cell_type": "code",
   "execution_count": 156,
   "metadata": {},
   "outputs": [
    {
     "name": "stdout",
     "output_type": "stream",
     "text": [
      "Fit 2 clusters\n",
      "Fit 4 clusters\n",
      "Fit 6 clusters\n",
      "Fit 8 clusters\n",
      "Fit 10 clusters\n",
      "Fit 12 clusters\n",
      "Fit 14 clusters\n",
      "Fit 16 clusters\n",
      "Fit 18 clusters\n",
      "Fit 20 clusters\n"
     ]
    },
    {
     "data": {
      "image/png": "[encoded data removed]",
      "text/plain": [
       "<Figure size 432x288 with 1 Axes>"
      ]
     },
     "metadata": {
      "needs_background": "light"
     },
     "output_type": "display_data"
    }
   ],
   "source": [
    "def find_optimal_clusters(data, max_k):\n",
    "    iters = range(2, max_k+1, 2)\n",
    "    \n",
    "    sse = []\n",
    "    for k in iters:\n",
    "        sse.append(MiniBatchKMeans(n_clusters=k, init_size=1024, batch_size=2048, random_state=20).fit(data).inertia_)\n",
    "        print('Fit {} clusters'.format(k))\n",
    "        \n",
    "    f, ax = plt.subplots(1, 1)\n",
    "    ax.plot(iters, sse, marker='o')\n",
    "    ax.set_xlabel('Cluster Centers')\n",
    "    ax.set_xticks(iters)\n",
    "    ax.set_xticklabels(iters)\n",
    "    ax.set_ylabel('SSE')\n",
    "    ax.set_title('SSE by Cluster Center Plot')\n",
    "    \n",
    "find_optimal_clusters(tfidf_matrix, 20)"
   ]
  },
  {
   "cell_type": "code",
   "execution_count": 174,
   "metadata": {},
   "outputs": [],
   "source": [
    "clusters = MiniBatchKMeans(n_clusters=14, init_size=1024, batch_size=2048, random_state=20).fit_predict(tfidf_matrix)"
   ]
  },
  {
   "cell_type": "code",
   "execution_count": 176,
   "metadata": {},
   "outputs": [
    {
     "data": {
      "image/png": "[encoded data removed]",
      "text/plain": [
       "<Figure size 1008x432 with 2 Axes>"
      ]
     },
     "metadata": {
      "needs_background": "light"
     },
     "output_type": "display_data"
    }
   ],
   "source": [
    "def plot_tsne_pca(data, labels):\n",
    "    max_label = max(labels)\n",
    "    max_items = np.random.choice(range(data.shape[0]), size=1700, replace=False)\n",
    "    \n",
    "    pca = PCA(n_components=2).fit_transform(data[max_items,:].todense())\n",
    "    tsne = TSNE().fit_transform(PCA(n_components=50).fit_transform(data[max_items,:].todense()))\n",
    "    \n",
    "    \n",
    "    idx = np.random.choice(range(pca.shape[0]), size=300, replace=False)\n",
    "    label_subset = labels[max_items]\n",
    "    label_subset = [cm.hsv(i/max_label) for i in label_subset[idx]]\n",
    "    \n",
    "    f, ax = plt.subplots(1, 2, figsize=(14, 6))\n",
    "    \n",
    "    ax[0].scatter(pca[idx, 0], pca[idx, 1], c=label_subset)\n",
    "    ax[0].set_title('PCA Cluster Plot')\n",
    "    \n",
    "    ax[1].scatter(tsne[idx, 0], tsne[idx, 1], c=label_subset)\n",
    "    ax[1].set_title('TSNE Cluster Plot')\n",
    "    \n",
    "plot_tsne_pca(tfidf_matrix, clusters)"
   ]
  },
  {
   "cell_type": "code",
   "execution_count": 178,
   "metadata": {},
   "outputs": [
    {
     "name": "stdout",
     "output_type": "stream",
     "text": [
      "\n",
      "Cluster 0\n",
      "jurus kemahameha,jurus kemahameha kagebunshin,juta,jadi,sama,runtuh,ga,nyata,rt,detikcom\n",
      "\n",
      "Cluster 1\n",
      "rapi news wawancara,sama mas tony,sama mas,rapi news wawancara ekslusif,ekslusif,ekslusif sunda,ekslusif sunda empire,rt rapi news wawancara,mas tony,wawancara ekslusif sunda\n",
      "\n",
      "Cluster 2\n",
      "https,sama,kagebunshin,kagebunshin https,bayar,kamehameha,formulir,daftar sunda empire,daftar sunda,daftar\n",
      "\n",
      "Cluster 3\n",
      "jurus kemahameha,minta bayar rp,rp juta,kemahameha kagebunshin https,rt kumpar dal,empire minta bayar,empire minta,sunda empire minta,minta bayar,kuasa jurus kemahameha\n",
      "\n",
      "Cluster 4\n",
      "jadi,https tco nk8vad9tz5,https tco ch5xhwiv9d,https tco,https,gepeng kesana kesini,gepeng kesana,kagebunshin,wawancara ekslusif sunda,rt\n",
      "\n",
      "Cluster 5\n",
      "kuasa,kumpar,formulir,daftar,kamehameha,rt,https,runtuh,aja,ga\n",
      "\n",
      "Cluster 6\n",
      "https,rt,ga,aja,of the,king of the,king of,the,of,king\n",
      "\n",
      "Cluster 7\n",
      "jurus kemahameha kagebunshin,juta,juta kuasa,jurus kemahameha,wawancara ekslusif sunda,jadi,nyata,formulir,rt,https\n",
      "\n",
      "Cluster 8\n",
      "rt penjahatgunung raja,rt penjahatgunung,empire akhir runtuh,from this to,from this,penjahatgunung raja sunda,penjahatgunung raja,tco nk8vad9tz5,empire akhir,this\n",
      "\n",
      "Cluster 9\n",
      "runtuh,member,daftar,https,ga,aja,raja,rt,benar,jadi\n",
      "\n",
      "Cluster 10\n",
      "ga,https,aja,jadi,penjahatgunung,runtuh,rt,raja sunda,raja sunda empire,raja\n",
      "\n",
      "Cluster 11\n",
      "raja,akhir,ga,aja,sunda empire sama,empire sama,https,rt,benar,sama\n",
      "\n",
      "Cluster 12\n",
      "jurus kemahameha kagebunshin,juta,juta kuasa,jurus kemahameha,aja,daftar,https,rt,benar,nyata\n",
      "\n",
      "Cluster 13\n",
      "raja sunda,raja sunda empire,minta,kamehameha,raja,rt,sama,https,sunda empire https,empire https\n"
     ]
    }
   ],
   "source": [
    "def get_top_keywords(data, clusters, labels, n_terms):\n",
    "    df = pd.DataFrame(data.todense()).groupby(clusters).mean()\n",
    "    \n",
    "    for i,r in df.iterrows():\n",
    "        print('\\nCluster {}'.format(i))\n",
    "        print(','.join([labels[t] for t in np.argsort(r)[-n_terms:]]))\n",
    "            \n",
    "get_top_keywords(tfidf_matrix, clusters, tfidf_vectorizer.get_feature_names(), 10)"
   ]
  },
  {
   "cell_type": "markdown",
   "metadata": {},
   "source": [
    "## Conclusion and Analysis\n",
    "\n",
    "In the Twitter data this time I took a cluster of n = 14 based on the elbow graph on the 'SSE by Cluster Center Plot' graph.\n",
    "\n",
    "It was shown that the preprocessing data that was carried out was still not optimal and could still be refined using methods or regular expressions that were more suitable for tweet data."
   ]
  }
 ],
 "metadata": {
  "kernelspec": {
   "display_name": "Python 3",
   "language": "python",
   "name": "python3"
  },
  "language_info": {
   "codemirror_mode": {
    "name": "ipython",
    "version": 3
   },
   "file_extension": ".py",
   "mimetype": "text/x-python",
   "name": "python",
   "nbconvert_exporter": "python",
   "pygments_lexer": "ipython3",
   "version": "3.7.4"
  }
 },
 "nbformat": 4,
 "nbformat_minor": 2
}
